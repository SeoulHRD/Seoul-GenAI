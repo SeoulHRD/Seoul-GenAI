{
 "cells": [
  {
   "cell_type": "code",
   "execution_count": 13,
   "id": "dab7f1c2-96ff-4500-98f6-df2f60842995",
   "metadata": {},
   "outputs": [],
   "source": [
    "import numpy as np\n",
    "import pandas as pd\n",
    "from sklearn.metrics import mean_squared_error\n",
    "from sklearn.linear_model import LinearRegression, Ridge, Lasso\n",
    "from sklearn.tree import DecisionTreeRegressor\n",
    "from sklearn.ensemble import RandomForestRegressor, GradientBoostingRegressor\n",
    "from xgboost import XGBRegressor\n",
    "from sklearn.preprocessing import MinMaxScaler"
   ]
  },
  {
   "cell_type": "code",
   "execution_count": 2,
   "id": "b0b18e01-fd32-45d2-867d-aec70686edcc",
   "metadata": {},
   "outputs": [
    {
     "name": "stdout",
     "output_type": "stream",
     "text": [
      "   id  area  bedrooms  bathrooms  stories mainroad guestroom basement  \\\n",
      "0   1  7420         4          2        3      yes        no       no   \n",
      "1   2  8960         4          4        4      yes        no       no   \n",
      "2   3  9960         3          2        2      yes        no      yes   \n",
      "3   4  7500         4          2        2      yes        no      yes   \n",
      "4   5  7420         4          1        2      yes       yes      yes   \n",
      "\n",
      "  hotwaterheating airconditioning  parking prefarea furnishingstatus     price  \n",
      "0              no             yes        2      yes        furnished  13300000  \n",
      "1              no             yes        3       no        furnished  12250000  \n",
      "2              no              no        2      yes   semi-furnished  12250000  \n",
      "3              no             yes        3      yes        furnished  12215000  \n",
      "4              no             yes        2       no        furnished  11410000  \n"
     ]
    }
   ],
   "source": [
    "# C드라이브 SEOUL 폴더에 있는 Housing.xlsx 파일 읽기\n",
    "housing = pd.read_excel(\"C:/SEOUL/Housing.xlsx\", sheet_name=0)\n",
    "\n",
    "# 데이터 확인 (상위 5행)\n",
    "print(housing.head())"
   ]
  },
  {
   "cell_type": "code",
   "execution_count": 3,
   "id": "c790669b-46ec-4cbb-bc79-c135418a04bf",
   "metadata": {},
   "outputs": [
    {
     "name": "stdout",
     "output_type": "stream",
     "text": [
      "<class 'pandas.core.frame.DataFrame'>\n",
      "RangeIndex: 545 entries, 0 to 544\n",
      "Data columns (total 14 columns):\n",
      " #   Column            Non-Null Count  Dtype \n",
      "---  ------            --------------  ----- \n",
      " 0   id                545 non-null    int64 \n",
      " 1   area              545 non-null    int64 \n",
      " 2   bedrooms          545 non-null    int64 \n",
      " 3   bathrooms         545 non-null    int64 \n",
      " 4   stories           545 non-null    int64 \n",
      " 5   mainroad          545 non-null    object\n",
      " 6   guestroom         545 non-null    object\n",
      " 7   basement          545 non-null    object\n",
      " 8   hotwaterheating   545 non-null    object\n",
      " 9   airconditioning   545 non-null    object\n",
      " 10  parking           545 non-null    int64 \n",
      " 11  prefarea          545 non-null    object\n",
      " 12  furnishingstatus  545 non-null    object\n",
      " 13  price             545 non-null    int64 \n",
      "dtypes: int64(7), object(7)\n",
      "memory usage: 59.7+ KB\n",
      "None\n"
     ]
    }
   ],
   "source": [
    "# 데이터 정보 보기\n",
    "print(housing.info())"
   ]
  },
  {
   "cell_type": "code",
   "execution_count": 4,
   "id": "0a05ad95-d110-4891-bc56-ea2260318754",
   "metadata": {},
   "outputs": [
    {
     "name": "stdout",
     "output_type": "stream",
     "text": [
      "   area  bedrooms  bathrooms  stories mainroad guestroom basement  \\\n",
      "0  7420         4          2        3      yes        no       no   \n",
      "1  8960         4          4        4      yes        no       no   \n",
      "2  9960         3          2        2      yes        no      yes   \n",
      "3  7500         4          2        2      yes        no      yes   \n",
      "4  7420         4          1        2      yes       yes      yes   \n",
      "\n",
      "  hotwaterheating airconditioning  parking prefarea furnishingstatus     price  \n",
      "0              no             yes        2      yes        furnished  13300000  \n",
      "1              no             yes        3       no        furnished  12250000  \n",
      "2              no              no        2      yes   semi-furnished  12250000  \n",
      "3              no             yes        3      yes        furnished  12215000  \n",
      "4              no             yes        2       no        furnished  11410000  \n"
     ]
    }
   ],
   "source": [
    "housing = housing.drop(columns=[\"id\"])\n",
    "\n",
    "# 확인\n",
    "print(housing.head())"
   ]
  },
  {
   "cell_type": "code",
   "execution_count": 7,
   "id": "1db56ab0-59bb-4339-a1b6-311ffa27c387",
   "metadata": {},
   "outputs": [
    {
     "name": "stdout",
     "output_type": "stream",
     "text": [
      "   area  bedrooms  bathrooms  stories  parking     price  mainroad_no  \\\n",
      "0  7420         4          2        3        2  13300000        False   \n",
      "1  8960         4          4        4        3  12250000        False   \n",
      "2  9960         3          2        2        2  12250000        False   \n",
      "3  7500         4          2        2        3  12215000        False   \n",
      "4  7420         4          1        2        2  11410000        False   \n",
      "\n",
      "   mainroad_yes  guestroom_no  guestroom_yes  ...  basement_yes  \\\n",
      "0          True          True          False  ...         False   \n",
      "1          True          True          False  ...         False   \n",
      "2          True          True          False  ...          True   \n",
      "3          True          True          False  ...          True   \n",
      "4          True         False           True  ...          True   \n",
      "\n",
      "   hotwaterheating_no  hotwaterheating_yes  airconditioning_no  \\\n",
      "0                True                False               False   \n",
      "1                True                False               False   \n",
      "2                True                False                True   \n",
      "3                True                False               False   \n",
      "4                True                False               False   \n",
      "\n",
      "   airconditioning_yes  prefarea_no  prefarea_yes  furnishingstatus_furnished  \\\n",
      "0                 True        False          True                        True   \n",
      "1                 True         True         False                        True   \n",
      "2                False        False          True                       False   \n",
      "3                 True        False          True                        True   \n",
      "4                 True         True         False                        True   \n",
      "\n",
      "   furnishingstatus_semi-furnished  furnishingstatus_unfurnished  \n",
      "0                            False                         False  \n",
      "1                            False                         False  \n",
      "2                             True                         False  \n",
      "3                            False                         False  \n",
      "4                            False                         False  \n",
      "\n",
      "[5 rows x 21 columns]\n",
      "(545, 21)\n"
     ]
    }
   ],
   "source": [
    "# 데이터 전처리 : 범주형 데이터 -> One-Hot Encoding, 더미변수\n",
    "housing.columns\n",
    "# mainroad,guestroom, basement, hotwaterheating, airconditioning, prefarea, furnishingstatus\n",
    "# 범주형 변수 목록\n",
    "categorical_cols = [\n",
    "    \"mainroad\", \"guestroom\", \"basement\",\n",
    "    \"hotwaterheating\", \"airconditioning\",\n",
    "    \"prefarea\", \"furnishingstatus\"\n",
    "]\n",
    "\n",
    "# One-Hot Encoding 변환\n",
    "housing = pd.get_dummies(housing, columns=categorical_cols, drop_first=False)\n",
    "\n",
    "# 변환된 데이터 확인\n",
    "print(housing.head())\n",
    "print(housing.shape)"
   ]
  },
  {
   "cell_type": "code",
   "execution_count": 9,
   "id": "bb9c9254-d7cb-4ad4-91ee-12c0392d5bb4",
   "metadata": {},
   "outputs": [
    {
     "name": "stdout",
     "output_type": "stream",
     "text": [
      "X_train: (381, 20)\n",
      "X_test : (164, 20)\n",
      "y_train: (381,)\n",
      "y_test : (164,)\n"
     ]
    }
   ],
   "source": [
    "# 데이터 분할하기\n",
    "# y : price\n",
    "# X : price를 제외한 모든 열\n",
    "# 독립변수(X), 종속변수(y) 정의\n",
    "X = housing.drop(\"price\", axis=1)\n",
    "y = housing[\"price\"]\n",
    "\n",
    "# 훈련 70%, 평가 30% 데이터 분할\n",
    "X_train, X_test, y_train, y_test = train_test_split(\n",
    "    X, y, test_size=0.3, random_state=42\n",
    ")\n",
    "\n",
    "# 데이터 크기 출력\n",
    "print(\"X_train:\", X_train.shape)\n",
    "print(\"X_test :\", X_test.shape)\n",
    "print(\"y_train:\", y_train.shape)\n",
    "print(\"y_test :\", y_test.shape)"
   ]
  },
  {
   "cell_type": "code",
   "execution_count": 12,
   "id": "28ee45d0-b382-4e6c-b9dc-b5b514d15ee1",
   "metadata": {},
   "outputs": [
    {
     "name": "stdout",
     "output_type": "stream",
     "text": [
      "                          RMSE\n",
      "LinearRegression  1.234107e+06\n",
      "Lasso             1.234107e+06\n",
      "Ridge             1.234149e+06\n",
      "GradientBoosting  1.269418e+06\n",
      "XGBoost           1.276035e+06\n",
      "RandomForest      1.352696e+06\n",
      "DecisionTree      1.844628e+06\n"
     ]
    }
   ],
   "source": [
    "# 모델 정의\n",
    "models = {\n",
    "    \"LinearRegression\": LinearRegression(),\n",
    "    \"Ridge\": Ridge(alpha=1.0),\n",
    "    \"Lasso\": Lasso(alpha=0.01),\n",
    "    \"DecisionTree\": DecisionTreeRegressor(random_state=42),\n",
    "    \"RandomForest\": RandomForestRegressor(n_estimators=100, random_state=42),\n",
    "    \"GradientBoosting\": GradientBoostingRegressor(n_estimators=100, random_state=42),\n",
    "    \"XGBoost\": XGBRegressor(n_estimators=200, learning_rate=0.1,\n",
    "                            max_depth=3, random_state=42, verbosity=0)\n",
    "}\n",
    "\n",
    "# RMSE 결과 저장\n",
    "results = {}\n",
    "\n",
    "for name, model in models.items():\n",
    "    # 학습\n",
    "    model.fit(X_train, y_train)\n",
    "    # 예측\n",
    "    y_pred = model.predict(X_test)\n",
    "    # RMSE 계산\n",
    "    rmse = np.sqrt(mean_squared_error(y_test, y_pred))\n",
    "    results[name] = rmse\n",
    "\n",
    "# RMSE 결과 출력\n",
    "results_df = pd.DataFrame.from_dict(results, orient=\"index\", columns=[\"RMSE\"]).sort_values(by=\"RMSE\")\n",
    "print(results_df)"
   ]
  },
  {
   "cell_type": "code",
   "execution_count": 14,
   "id": "d727cb5a-e094-40a5-9608-58fb32874284",
   "metadata": {},
   "outputs": [
    {
     "name": "stdout",
     "output_type": "stream",
     "text": [
      "Linear Regression RMSE: 1234106.75\n",
      "Ridge Regression RMSE: 1226824.36\n",
      "Lasso Regression RMSE: 1234106.75\n",
      "Random Forest RMSE: 1355183.56\n",
      "Gradient Boosting RMSE: 1305445.02\n",
      "XGBoost RMSE: 1435543.28\n",
      "\n",
      "▶ RMSE 기준 성능 비교 (Min-Max Scaling 적용 후)\n",
      "               Model          RMSE\n",
      "1   Ridge Regression  1.226824e+06\n",
      "0  Linear Regression  1.234107e+06\n",
      "2   Lasso Regression  1.234107e+06\n",
      "4  Gradient Boosting  1.305445e+06\n",
      "3      Random Forest  1.355184e+06\n",
      "5            XGBoost  1.435543e+06\n"
     ]
    }
   ],
   "source": [
    "# 예측모형의 성능을 개선하고 싶음\n",
    "# (1) X 변환 : Min-Max Normalization(정규화) : X가 0~1 사이로 변경\n",
    "# 1. Min-Max Scaling\n",
    "scaler   = MinMaxScaler()\n",
    "X_scaled = scaler.fit_transform(X)\n",
    "\n",
    "# 2. 훈련/평가 데이터 다시 분할\n",
    "X_train_scaled, X_test_scaled, y_train, y_test = train_test_split(\n",
    "    X_scaled, y, test_size = 0.3, random_state = 42\n",
    ")\n",
    "\n",
    "# 3. 사용할 모델 정의\n",
    "models = {\n",
    "    \"Linear Regression\": LinearRegression(),\n",
    "    \"Ridge Regression\": Ridge(alpha=1.0),\n",
    "    \"Lasso Regression\": Lasso(alpha=0.01),\n",
    "    \"Random Forest\": RandomForestRegressor(n_estimators=200, random_state=42),\n",
    "    \"Gradient Boosting\": GradientBoostingRegressor(n_estimators=200, random_state=42),\n",
    "    \"XGBoost\": XGBRegressor(n_estimators=200, random_state=42)\n",
    "}\n",
    "\n",
    "# 4. 성능 저장용 딕셔너리\n",
    "results = {}\n",
    "\n",
    "# 5. 각 모델 학습 및 평가\n",
    "for name, model in models.items():\n",
    "    model.fit(X_train_scaled, y_train)                       # 학습\n",
    "    y_pred = model.predict(X_test_scaled)                    # 예측\n",
    "    rmse = np.sqrt(mean_squared_error(y_test, y_pred))       # RMSE 계산\n",
    "    results[name] = rmse\n",
    "    print(f\"{name} RMSE: {rmse:.2f}\")\n",
    "\n",
    "# 6. 결과를 DataFrame으로 정리\n",
    "results_df = pd.DataFrame(list(results.items()), columns=[\"Model\", \"RMSE\"]).sort_values(by=\"RMSE\")\n",
    "print(\"\\n▶ RMSE 기준 성능 비교 (Min-Max Scaling 적용 후)\")\n",
    "print(results_df)\n"
   ]
  },
  {
   "cell_type": "code",
   "execution_count": null,
   "id": "0ab5f1d7-e6f8-403f-a415-3dd8c9efb8b5",
   "metadata": {},
   "outputs": [],
   "source": []
  }
 ],
 "metadata": {
  "kernelspec": {
   "display_name": "Python 3 (ipykernel)",
   "language": "python",
   "name": "python3"
  },
  "language_info": {
   "codemirror_mode": {
    "name": "ipython",
    "version": 3
   },
   "file_extension": ".py",
   "mimetype": "text/x-python",
   "name": "python",
   "nbconvert_exporter": "python",
   "pygments_lexer": "ipython3",
   "version": "3.13.5"
  }
 },
 "nbformat": 4,
 "nbformat_minor": 5
}
