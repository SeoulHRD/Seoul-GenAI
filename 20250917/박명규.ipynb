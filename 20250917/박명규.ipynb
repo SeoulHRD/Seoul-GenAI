{
 "cells": [
  {
   "cell_type": "markdown",
   "id": "1d2f9595",
   "metadata": {},
   "source": [
    "# 서울시 아파트 실거래 분석 (그래프 포함 종합 정리)\n",
    "업로드하신 `2025서울시부동산실거래가.xlsx`, `Housing.xlsx`를 바탕으로\n",
    "전처리 → 분포/요약 → 평형(59㎡/84㎡) → 신축/준신축 비교 → 자치구별 상승률 → 단순 예측(라인)까지 한 번에 재현 가능한 노트북입니다.\n",
    "\n",
    "- 생성일시: 2025-09-17 04:41:24\n",
    "- 실행 전제: 동일 경로(`/mnt/data`)에 데이터 파일이 존재해야 합니다."
   ]
  },
  {
   "cell_type": "code",
   "execution_count": null,
   "id": "3847a74d",
   "metadata": {},
   "outputs": [],
   "source": [
    "import pandas as pd\n",
    "import numpy as np\n",
    "import matplotlib.pyplot as plt\n",
    "\n",
    "# 한글 폰트(설치되어 있으면 자동 적용)\n",
    "try:\n",
    "    import koreanize_matplotlib  # noqa: F401\n",
    "except Exception as e:\n",
    "    print('koreanize_matplotlib 미적용(옵션):', e)\n",
    "\n",
    "from sklearn.model_selection import train_test_split\n",
    "from sklearn.compose import ColumnTransformer\n",
    "from sklearn.preprocessing import OneHotEncoder, StandardScaler\n",
    "from sklearn.pipeline import Pipeline\n",
    "from sklearn.impute import SimpleImputer\n",
    "from sklearn.ensemble import GradientBoostingRegressor\n",
    "from sklearn.metrics import r2_score, mean_squared_error\n",
    "\n",
    "pd.set_option('display.max_rows', 50)\n",
    "pd.set_option('display.max_columns', 50)\n"
   ]
  },
  {
   "cell_type": "markdown",
   "id": "98d8c4ee",
   "metadata": {},
   "source": [
    "## 1. 데이터 로드 및 전처리"
   ]
  },
  {
   "cell_type": "code",
   "execution_count": null,
   "id": "06622a03",
   "metadata": {},
   "outputs": [],
   "source": [
    "# 파일 경로\n",
    "real_path = \"/mnt/data/2025서울시부동산실거래가.xlsx\"\n",
    "housing_path = \"/mnt/data/Housing.xlsx\"\n",
    "\n",
    "# 실거래 데이터 로드\n",
    "df = pd.read_excel(real_path, sheet_name=\"data\")\n",
    "\n",
    "# 아파트만 필터링\n",
    "df_apartment = df[df[\"건물용도\"] == \"아파트\"].copy()\n",
    "\n",
    "# 날짜/파생\n",
    "df_apartment[\"계약일\"] = pd.to_datetime(df_apartment[\"계약일\"], format=\"%Y%m%d\", errors=\"coerce\")\n",
    "df_apartment[\"년월\"] = df_apartment[\"계약일\"].dt.to_period(\"M\")\n",
    "df_apartment[\"년\"] = df_apartment[\"계약일\"].dt.year\n",
    "df_apartment[\"월\"] = df_apartment[\"계약일\"].dt.month\n",
    "\n",
    "# 건축년도 정리\n",
    "df_apartment[\"건축년도\"] = df_apartment[\"건축년도\"].fillna(0).astype(int)\n",
    "df_apartment.loc[df_apartment[\"건축년도\"] < 1900, \"건축년도\"] = None\n",
    "\n",
    "# 면적/금액 정리\n",
    "df_apartment[\"건물면적(㎡)\"] = df_apartment[\"건물면적(㎡)\"].round(2)\n",
    "df_apartment = df_apartment[df_apartment[\"물건금액(만원)\"] > 0]\n",
    "\n",
    "df_apartment.head()\n"
   ]
  },
  {
   "cell_type": "markdown",
   "id": "f3321385",
   "metadata": {},
   "source": [
    "## 2. 전체 분포/요약 (박스플롯, 히스토그램)"
   ]
  },
  {
   "cell_type": "code",
   "execution_count": null,
   "id": "81c62e0c",
   "metadata": {},
   "outputs": [],
   "source": [
    "overall_avg = df_apartment[\"물건금액(만원)\"].mean().round(0)\n",
    "median_all = df_apartment[\"물건금액(만원)\"].median().round(0)\n",
    "q10_all = df_apartment[\"물건금액(만원)\"].quantile(0.1).round(0)\n",
    "q90_all = df_apartment[\"물건금액(만원)\"].quantile(0.9).round(0)\n",
    "print(\"전체 평균:\", overall_avg, \"| 중앙값:\", median_all, \"| 하위10%:\", q10_all, \"| 상위10%:\", q90_all)\n",
    "\n",
    "# 박스플롯\n",
    "plt.figure(figsize=(6,6))\n",
    "plt.boxplot(df_apartment[\"물건금액(만원)\"], vert=True)\n",
    "plt.title(\"서울시 아파트 매매금액 분포 (박스플롯)\")\n",
    "plt.ylabel(\"거래금액(만원)\")\n",
    "plt.grid(True)\n",
    "plt.show()\n",
    "\n",
    "# 히스토그램\n",
    "plt.figure(figsize=(10,6))\n",
    "plt.hist(df_apartment[\"물건금액(만원)\"], bins=50, edgecolor=\"black\")\n",
    "plt.title(\"서울시 아파트 매매금액 분포 (히스토그램)\")\n",
    "plt.xlabel(\"거래금액(만원)\")\n",
    "plt.ylabel(\"빈도수\")\n",
    "plt.grid(True)\n",
    "plt.show()\n"
   ]
  },
  {
   "cell_type": "markdown",
   "id": "9776b1d0",
   "metadata": {},
   "source": [
    "## 3. 자치구×월별 거래건수 / 전체 월별 추이"
   ]
  },
  {
   "cell_type": "code",
   "execution_count": null,
   "id": "c6e5eeca",
   "metadata": {},
   "outputs": [],
   "source": [
    "monthly_counts = df_apartment.groupby([\"자치구명\",\"년월\"]).size().reset_index(name=\"거래건수\")\n",
    "pivot_counts = monthly_counts.pivot(index=\"자치구명\", columns=\"년월\", values=\"거래건수\").fillna(0).astype(int)\n",
    "pivot_counts.head()\n"
   ]
  },
  {
   "cell_type": "code",
   "execution_count": null,
   "id": "6bc5c9a2",
   "metadata": {},
   "outputs": [],
   "source": [
    "# 서울 전체 월별 거래건수 추이\n",
    "total_trend = df_apartment.groupby(\"년월\").size()\n",
    "plt.figure(figsize=(10,5))\n",
    "plt.plot(total_trend.index.astype(str), total_trend.values, marker=\"o\")\n",
    "plt.title(\"서울시 전체 아파트 월별 거래건수 추이\")\n",
    "plt.ylabel(\"거래건수\")\n",
    "plt.xlabel(\"년월\")\n",
    "plt.grid(True)\n",
    "plt.xticks(rotation=45, ha=\"right\")\n",
    "plt.tight_layout()\n",
    "plt.show()\n"
   ]
  },
  {
   "cell_type": "markdown",
   "id": "17622849",
   "metadata": {},
   "source": [
    "## 4. 평형대 분석: 59㎡ / 84㎡ (유사 면적 묶음)"
   ]
  },
  {
   "cell_type": "code",
   "execution_count": null,
   "id": "2e480561",
   "metadata": {},
   "outputs": [],
   "source": [
    "def classify_area(x):\n",
    "    if 56 <= x <= 62:\n",
    "        return \"59㎡\"\n",
    "    elif 82 <= x <= 86:\n",
    "        return \"84㎡\"\n",
    "    return None\n",
    "\n",
    "df_apartment[\"대표면적\"] = df_apartment[\"건물면적(㎡)\"].apply(classify_area)\n",
    "df_target = df_apartment[df_apartment[\"대표면적\"].notnull()].copy()\n",
    "\n",
    "pivot_area_stats = df_target.groupby([\"자치구명\",\"대표면적\"])[\"물건금액(만원)\"].mean().unstack()\n",
    "ax = pivot_area_stats.plot(kind=\"bar\", figsize=(14,8))\n",
    "plt.title(\"자치구별 아파트 평균 매매금액 (59㎡ vs 84㎡)\")\n",
    "plt.ylabel(\"평균 매매금액(만원)\")\n",
    "plt.xlabel(\"자치구\")\n",
    "plt.xticks(rotation=45, ha=\"right\")\n",
    "plt.grid(True, axis=\"y\")\n",
    "plt.tight_layout()\n",
    "plt.show()\n"
   ]
  },
  {
   "cell_type": "markdown",
   "id": "fc8ffe48",
   "metadata": {},
   "source": [
    "## 5. 59㎡ 자치구별 평균 순위 및 백분위"
   ]
  },
  {
   "cell_type": "code",
   "execution_count": null,
   "id": "48393673",
   "metadata": {},
   "outputs": [],
   "source": [
    "rank59 = (\n",
    "    df_target[df_target['대표면적']=='59㎡']\n",
    "    .groupby('자치구명')['물건금액(만원)'].mean().round(0).sort_values(ascending=False).reset_index()\n",
    ")\n",
    "rank59['순위'] = rank59['물건금액(만원)'].rank(method='dense', ascending=False).astype(int)\n",
    "rank59.head(10)\n"
   ]
  },
  {
   "cell_type": "code",
   "execution_count": null,
   "id": "812b2422",
   "metadata": {},
   "outputs": [],
   "source": [
    "# 59㎡ 기준 10억7천(=107000만원)의 상위 백분위\n",
    "value = 107000\n",
    "prices_59 = df_target[df_target[\"대표면적\"]==\"59㎡\"][\"물건금액(만원)\"]\n",
    "percentile = (prices_59 < value).mean()*100\n",
    "upper = 100 - percentile\n",
    "print(f\"59㎡에서 10억7천만원은 상위 약 {upper:.2f}%\")\n"
   ]
  },
  {
   "cell_type": "markdown",
   "id": "0bd7e10a",
   "metadata": {},
   "source": [
    "## 6. 신축(2020~) vs 준신축(2015~2019) 비교 (59㎡/84㎡)"
   ]
  },
  {
   "cell_type": "code",
   "execution_count": null,
   "id": "0931786f",
   "metadata": {},
   "outputs": [],
   "source": [
    "# 59㎡\n",
    "prices_59_new = df_target[(df_target['대표면적']=='59㎡') & (df_target['건축년도']>=2020)]['물건금액(만원)']\n",
    "prices_59_old = df_target[(df_target['대표면적']=='59㎡') & (df_target['건축년도'].between(2015,2019))]['물건금액(만원)']\n",
    "print('59㎡ 신축 평균/중앙:', prices_59_new.mean().round(0), prices_59_new.median().round(0))\n",
    "print('59㎡ 준신축 평균/중앙:', prices_59_old.mean().round(0), prices_59_old.median().round(0))\n",
    "\n",
    "# 84㎡\n",
    "prices_84_new = df_target[(df_target['대표면적']=='84㎡') & (df_target['건축년도']>=2020)]['물건금액(만원)']\n",
    "prices_84_old = df_target[(df_target['대표면적']=='84㎡') & (df_target['건축년도'].between(2015,2019))]['물건금액(만원)']\n",
    "print('84㎡ 신축 평균/중앙:', prices_84_new.mean().round(0), prices_84_new.median().round(0))\n",
    "print('84㎡ 준신축 평균/중앙:', prices_84_old.mean().round(0), prices_84_old.median().round(0))\n"
   ]
  },
  {
   "cell_type": "code",
   "execution_count": null,
   "id": "c9ad938f",
   "metadata": {},
   "outputs": [],
   "source": [
    "# 자치구별 59㎡: 신축 vs 전체 평균 차이\n",
    "area59_all = df_target[df_target['대표면적']=='59㎡'].groupby('자치구명')['물건금액(만원)'].mean().round(0).reset_index(name='전체')\n",
    "area59_new = df_target[(df_target['대표면적']=='59㎡') & (df_target['건축년도']>=2020)].groupby('자치구명')['물건금액(만원)'].mean().round(0).reset_index(name='신축')\n",
    "cmp59 = pd.merge(area59_all, area59_new, on='자치구명', how='outer').fillna(0)\n",
    "cmp59['차이'] = cmp59['신축'] - cmp59['전체']\n",
    "\n",
    "plt.figure(figsize=(14,8))\n",
    "plt.bar(cmp59['자치구명'], cmp59['차이'], color=['red' if x<0 else 'blue' for x in cmp59['차이']])\n",
    "plt.axhline(0, color='black', lw=1)\n",
    "plt.title('자치구별 59㎡ 신축(2020~) vs 전체 평균 매매금액 차이')\n",
    "plt.ylabel('차이 (만원)')\n",
    "plt.xlabel('자치구')\n",
    "plt.xticks(rotation=45, ha='right')\n",
    "plt.tight_layout()\n",
    "plt.show()\n"
   ]
  },
  {
   "cell_type": "code",
   "execution_count": null,
   "id": "7a1a2cce",
   "metadata": {},
   "outputs": [],
   "source": [
    "# 자치구별 84㎡: 신축 vs 전체 평균 차이\n",
    "area84_all = df_target[df_target['대표면적']=='84㎡'].groupby('자치구명')['물건금액(만원)'].mean().round(0).reset_index(name='전체')\n",
    "area84_new = df_target[(df_target['대표면적']=='84㎡') & (df_target['건축년도']>=2020)].groupby('자치구명')['물건금액(만원)'].mean().round(0).reset_index(name='신축')\n",
    "cmp84 = pd.merge(area84_all, area84_new, on='자치구명', how='outer').fillna(0)\n",
    "cmp84['차이'] = cmp84['신축'] - cmp84['전체']\n",
    "\n",
    "plt.figure(figsize=(14,8))\n",
    "plt.bar(cmp84['자치구명'], cmp84['차이'], color=['red' if x<0 else 'blue' for x in cmp84['차이']])\n",
    "plt.axhline(0, color='black', lw=1)\n",
    "plt.title('자치구별 84㎡ 신축(2020~) vs 전체 평균 매매금액 차이')\n",
    "plt.ylabel('차이 (만원)')\n",
    "plt.xlabel('자치구')\n",
    "plt.xticks(rotation=45, ha='right')\n",
    "plt.tight_layout()\n",
    "plt.show()\n"
   ]
  },
  {
   "cell_type": "markdown",
   "id": "2152da90",
   "metadata": {},
   "source": [
    "## 7. 자치구별 2025년 상승률 (기준월→최신월) & Top/Bottom10 그래프"
   ]
  },
  {
   "cell_type": "code",
   "execution_count": null,
   "id": "68c7708c",
   "metadata": {},
   "outputs": [],
   "source": [
    "# 2025년만\n",
    "df_2025 = df_apartment[df_apartment['계약일'].dt.year == 2025]\n",
    "monthly_avg = (\n",
    "    df_2025.groupby(['자치구명','년월'])['물건금액(만원)']\n",
    "    .mean().reset_index().sort_values(['자치구명','년월'])\n",
    ")\n",
    "\n",
    "# 기준월/최신월\n",
    "first_tbl = monthly_avg.sort_values(['자치구명','년월']).drop_duplicates('자치구명', keep='first')[['자치구명','년월']].rename(columns={'년월':'기준년월'})\n",
    "last_tbl  = monthly_avg.sort_values(['자치구명','년월']).drop_duplicates('자치구명', keep='last')[['자치구명','년월']].rename(columns={'년월':'최신년월'})\n",
    "\n",
    "first_price = monthly_avg.merge(first_tbl, on='자치구명'); first_price = first_price[first_price['년월']==first_price['기준년월']][['자치구명','년월','물건금액(만원)']].rename(columns={'년월':'기준년월','물건금액(만원)':'기준가(만원)'})\n",
    "last_price  = monthly_avg.merge(last_tbl, on='자치구명');  last_price  = last_price[last_price['년월']==last_price['최신년월']][['자치구명','년월','물건금액(만원)']].rename(columns={'년월':'최신년월','물건금액(만원)':'최신가(만원)'})\n",
    "growth = first_price.merge(last_price, on='자치구명')\n",
    "\n",
    "def p2m(p): y,m = map(int, str(p).split('-')); return y*12+m\n",
    "growth['상승률(%)'] = ((growth['최신가(만원)']-growth['기준가(만원)'])/growth['기준가(만원)']*100).round(2)\n",
    "growth['월수'] = growth.apply(lambda r: p2m(r['최신년월'])-p2m(r['기준년월']), axis=1).replace(0,1)\n",
    "growth['월CAGR(%)'] = (((growth['최신가(만원)']/growth['기준가(만원)'])**(1/growth['월수']))-1).mul(100).round(2)\n",
    "\n",
    "growth_sorted = growth.sort_values('상승률(%)', ascending=False).reset_index(drop=True)\n",
    "display(growth_sorted.head())\n",
    "\n",
    "# Top 10\n",
    "top10 = growth_sorted.head(10)\n",
    "plt.figure(figsize=(12,6))\n",
    "plt.bar(top10['자치구명'], top10['상승률(%)'])\n",
    "plt.title('2025년 자치구별 매매가격 상승률 Top 10 (기준월 대비 최신월)')\n",
    "plt.ylabel('상승률(%)')\n",
    "plt.xticks(rotation=45, ha='right'); plt.grid(True, axis='y'); plt.tight_layout(); plt.show()\n",
    "\n",
    "# Bottom 10\n",
    "bottom10 = growth_sorted.tail(10)\n",
    "plt.figure(figsize=(12,6))\n",
    "plt.bar(bottom10['자치구명'], bottom10['상승률(%)'])\n",
    "plt.title('2025년 자치구별 매매가격 상승률 Bottom 10 (기준월 대비 최신월)')\n",
    "plt.ylabel('상승률(%)')\n",
    "plt.xticks(rotation=45, ha='right'); plt.grid(True, axis='y'); plt.tight_layout(); plt.show()\n"
   ]
  },
  {
   "cell_type": "markdown",
   "id": "e4bde33d",
   "metadata": {},
   "source": [
    "## 8. 상위3/하위3 자치구 실제값 + 단순 선형 예측 라인"
   ]
  },
  {
   "cell_type": "code",
   "execution_count": null,
   "id": "0f1aade8",
   "metadata": {},
   "outputs": [],
   "source": [
    "from sklearn.linear_model import LinearRegression\n",
    "\n",
    "def forecast_by_gu(df_gu):\n",
    "    df_gu = df_gu.sort_values('년월')\n",
    "    if len(df_gu) < 3:\n",
    "        return None\n",
    "    X = np.arange(1, len(df_gu)+1).reshape(-1,1)\n",
    "    y = df_gu['물건금액(만원)'].values\n",
    "    model = LinearRegression().fit(X, y)\n",
    "    future_X = np.arange(len(df_gu)+1, len(df_gu)+3+1).reshape(-1,1)\n",
    "    y_pred = model.predict(future_X)\n",
    "    last_period = df_gu['년월'].max().to_timestamp()\n",
    "    future_months = pd.period_range(last_period + pd.offsets.MonthBegin(1), periods=3, freq='M')\n",
    "    return pd.DataFrame({'자치구명': df_gu['자치구명'].iloc[0], '년월': future_months, '예측평균가(만원)': np.round(y_pred,0)})\n",
    "\n",
    "fc_list = []\n",
    "for gu, sub in monthly_avg.groupby('자치구명'):\n",
    "    out = forecast_by_gu(sub)\n",
    "    if out is not None:\n",
    "        fc_list.append(out)\n",
    "forecast_df = pd.concat(fc_list, ignore_index=True) if fc_list else pd.DataFrame()\n",
    "\n",
    "def plot_actual_vs_forecast(gu_name):\n",
    "    actual = monthly_avg[monthly_avg['자치구명']==gu_name].sort_values('년월')\n",
    "    future = forecast_df[forecast_df['자치구명']==gu_name].sort_values('년월')\n",
    "    if len(actual) < 3: \n",
    "        return\n",
    "    plt.figure(figsize=(10,5))\n",
    "    plt.plot(actual['년월'].astype(str), actual['물건금액(만원)'], marker='o', label='실제 평균가')\n",
    "    if not future.empty:\n",
    "        plt.plot(future['년월'].astype(str), future['예측평균가(만원)'], linestyle='--', marker='o', label='예측 평균가')\n",
    "    plt.title(f'{gu_name} 월별 평균 매매가(만원): 실제값과 예측')\n",
    "    plt.xlabel('년월'); plt.ylabel('평균 매매가(만원)')\n",
    "    plt.xticks(rotation=45, ha='right'); plt.grid(True); plt.legend(); plt.tight_layout(); plt.show()\n",
    "\n",
    "top3 = growth_sorted.head(3)['자치구명'].tolist()\n",
    "bot3 = growth_sorted.tail(3)['자치구명'].tolist()\n",
    "for gu in top3 + bot3:\n",
    "    plot_actual_vs_forecast(gu)\n"
   ]
  }
 ],
 "metadata": {
  "kernelspec": {
   "display_name": "Python 3 (ipykernel)",
   "language": "python",
   "name": "python3"
  },
  "language_info": {
   "codemirror_mode": {
    "name": "ipython",
    "version": 3
   },
   "file_extension": ".py",
   "mimetype": "text/x-python",
   "name": "python",
   "nbconvert_exporter": "python",
   "pygments_lexer": "ipython3",
   "version": "3.13.5"
  }
 },
 "nbformat": 4,
 "nbformat_minor": 5
}
